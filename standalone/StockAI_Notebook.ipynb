{
  "nbformat": 4,
  "nbformat_minor": 0,
  "metadata": {
    "colab": {
      "provenance": []
    },
    "kernelspec": {
      "name": "python3",
      "display_name": "Python 3"
    },
    "language_info": {
      "name": "python"
    }
  },
  "cells": [
    {
      "cell_type": "code",
      "execution_count": 1,
      "metadata": {
        "id": "GJ9bUjIGfI3a",
        "colab": {
          "base_uri": "https://localhost:8080/"
        },
        "outputId": "cde70af0-accd-421d-dc67-85cd2fab65e3"
      },
      "outputs": [
        {
          "output_type": "stream",
          "name": "stdout",
          "text": [
            "\u001b[?25l     \u001b[90m━━━━━━━━━━━━━━━━━━━━━━━━━━━━━━━━━━━━━━━━\u001b[0m \u001b[32m0.0/816.1 kB\u001b[0m \u001b[31m?\u001b[0m eta \u001b[36m-:--:--\u001b[0m\r\u001b[2K     \u001b[91m━━━━━━━━━━\u001b[0m\u001b[90m╺\u001b[0m\u001b[90m━━━━━━━━━━━━━━━━━━━━━━━━━━━━━\u001b[0m \u001b[32m204.8/816.1 kB\u001b[0m \u001b[31m6.1 MB/s\u001b[0m eta \u001b[36m0:00:01\u001b[0m\r\u001b[2K     \u001b[91m━━━━━━━━━━━━━━━━━━━━━━━━━━━━━━━━━━\u001b[0m\u001b[90m╺\u001b[0m\u001b[90m━━━━━\u001b[0m \u001b[32m696.3/816.1 kB\u001b[0m \u001b[31m10.0 MB/s\u001b[0m eta \u001b[36m0:00:01\u001b[0m\r\u001b[2K     \u001b[90m━━━━━━━━━━━━━━━━━━━━━━━━━━━━━━━━━━━━━━━━\u001b[0m \u001b[32m816.1/816.1 kB\u001b[0m \u001b[31m8.8 MB/s\u001b[0m eta \u001b[36m0:00:00\u001b[0m\n",
            "\u001b[2K     \u001b[90m━━━━━━━━━━━━━━━━━━━━━━━━━━━━━━━━━━━━━━━━\u001b[0m \u001b[32m226.7/226.7 kB\u001b[0m \u001b[31m10.6 MB/s\u001b[0m eta \u001b[36m0:00:00\u001b[0m\n",
            "\u001b[2K     \u001b[90m━━━━━━━━━━━━━━━━━━━━━━━━━━━━━━━━━━━━━━━━\u001b[0m \u001b[32m1.8/1.8 MB\u001b[0m \u001b[31m17.7 MB/s\u001b[0m eta \u001b[36m0:00:00\u001b[0m\n",
            "\u001b[?25h  Preparing metadata (setup.py) ... \u001b[?25l\u001b[?25hdone\n",
            "\u001b[2K     \u001b[90m━━━━━━━━━━━━━━━━━━━━━━━━━━━━━━━━━━━━━━━━\u001b[0m \u001b[32m10.0/10.0 MB\u001b[0m \u001b[31m30.2 MB/s\u001b[0m eta \u001b[36m0:00:00\u001b[0m\n",
            "\u001b[2K     \u001b[90m━━━━━━━━━━━━━━━━━━━━━━━━━━━━━━━━━━━━━━━━\u001b[0m \u001b[32m207.4/207.4 kB\u001b[0m \u001b[31m21.7 MB/s\u001b[0m eta \u001b[36m0:00:00\u001b[0m\n",
            "\u001b[2K     \u001b[90m━━━━━━━━━━━━━━━━━━━━━━━━━━━━━━━━━━━━━━━━\u001b[0m \u001b[32m171.6/171.6 kB\u001b[0m \u001b[31m13.9 MB/s\u001b[0m eta \u001b[36m0:00:00\u001b[0m\n",
            "\u001b[2K     \u001b[90m━━━━━━━━━━━━━━━━━━━━━━━━━━━━━━━━━━━━━━━━\u001b[0m \u001b[32m1.7/1.7 MB\u001b[0m \u001b[31m36.6 MB/s\u001b[0m eta \u001b[36m0:00:00\u001b[0m\n",
            "\u001b[2K     \u001b[90m━━━━━━━━━━━━━━━━━━━━━━━━━━━━━━━━━━━━━━━━\u001b[0m \u001b[32m242.1/242.1 kB\u001b[0m \u001b[31m29.6 MB/s\u001b[0m eta \u001b[36m0:00:00\u001b[0m\n",
            "\u001b[2K     \u001b[90m━━━━━━━━━━━━━━━━━━━━━━━━━━━━━━━━━━━━━━━━\u001b[0m \u001b[32m61.0/61.0 kB\u001b[0m \u001b[31m8.3 MB/s\u001b[0m eta \u001b[36m0:00:00\u001b[0m\n",
            "\u001b[2K     \u001b[90m━━━━━━━━━━━━━━━━━━━━━━━━━━━━━━━━━━━━━━━━\u001b[0m \u001b[32m75.9/75.9 kB\u001b[0m \u001b[31m10.2 MB/s\u001b[0m eta \u001b[36m0:00:00\u001b[0m\n",
            "\u001b[2K     \u001b[90m━━━━━━━━━━━━━━━━━━━━━━━━━━━━━━━━━━━━━━━━\u001b[0m \u001b[32m460.2/460.2 kB\u001b[0m \u001b[31m26.3 MB/s\u001b[0m eta \u001b[36m0:00:00\u001b[0m\n",
            "\u001b[2K     \u001b[90m━━━━━━━━━━━━━━━━━━━━━━━━━━━━━━━━━━━━━━━━\u001b[0m \u001b[32m82.9/82.9 kB\u001b[0m \u001b[31m12.1 MB/s\u001b[0m eta \u001b[36m0:00:00\u001b[0m\n",
            "\u001b[2K     \u001b[90m━━━━━━━━━━━━━━━━━━━━━━━━━━━━━━━━━━━━━━━━\u001b[0m \u001b[32m49.4/49.4 kB\u001b[0m \u001b[31m6.4 MB/s\u001b[0m eta \u001b[36m0:00:00\u001b[0m\n",
            "\u001b[2K     \u001b[90m━━━━━━━━━━━━━━━━━━━━━━━━━━━━━━━━━━━━━━━━\u001b[0m \u001b[32m77.0/77.0 kB\u001b[0m \u001b[31m10.5 MB/s\u001b[0m eta \u001b[36m0:00:00\u001b[0m\n",
            "\u001b[2K     \u001b[90m━━━━━━━━━━━━━━━━━━━━━━━━━━━━━━━━━━━━━━━━\u001b[0m \u001b[32m58.3/58.3 kB\u001b[0m \u001b[31m6.7 MB/s\u001b[0m eta \u001b[36m0:00:00\u001b[0m\n",
            "\u001b[2K     \u001b[90m━━━━━━━━━━━━━━━━━━━━━━━━━━━━━━━━━━━━━━━━\u001b[0m \u001b[32m143.8/143.8 kB\u001b[0m \u001b[31m19.5 MB/s\u001b[0m eta \u001b[36m0:00:00\u001b[0m\n",
            "\u001b[2K     \u001b[90m━━━━━━━━━━━━━━━━━━━━━━━━━━━━━━━━━━━━━━━━\u001b[0m \u001b[32m106.8/106.8 kB\u001b[0m \u001b[31m15.7 MB/s\u001b[0m eta \u001b[36m0:00:00\u001b[0m\n",
            "\u001b[2K     \u001b[90m━━━━━━━━━━━━━━━━━━━━━━━━━━━━━━━━━━━━━━━━\u001b[0m \u001b[32m121.1/121.1 kB\u001b[0m \u001b[31m12.9 MB/s\u001b[0m eta \u001b[36m0:00:00\u001b[0m\n",
            "\u001b[2K     \u001b[90m━━━━━━━━━━━━━━━━━━━━━━━━━━━━━━━━━━━━━━━━\u001b[0m \u001b[32m120.9/120.9 kB\u001b[0m \u001b[31m16.4 MB/s\u001b[0m eta \u001b[36m0:00:00\u001b[0m\n",
            "\u001b[2K     \u001b[90m━━━━━━━━━━━━━━━━━━━━━━━━━━━━━━━━━━━━━━━━\u001b[0m \u001b[32m104.6/104.6 kB\u001b[0m \u001b[31m14.2 MB/s\u001b[0m eta \u001b[36m0:00:00\u001b[0m\n",
            "\u001b[2K     \u001b[90m━━━━━━━━━━━━━━━━━━━━━━━━━━━━━━━━━━━━━━━━\u001b[0m \u001b[32m123.8/123.8 kB\u001b[0m \u001b[31m14.8 MB/s\u001b[0m eta \u001b[36m0:00:00\u001b[0m\n",
            "\u001b[2K     \u001b[90m━━━━━━━━━━━━━━━━━━━━━━━━━━━━━━━━━━━━━━━━\u001b[0m \u001b[32m123.8/123.8 kB\u001b[0m \u001b[31m17.1 MB/s\u001b[0m eta \u001b[36m0:00:00\u001b[0m\n",
            "\u001b[2K     \u001b[90m━━━━━━━━━━━━━━━━━━━━━━━━━━━━━━━━━━━━━━━━\u001b[0m \u001b[32m123.9/123.9 kB\u001b[0m \u001b[31m15.1 MB/s\u001b[0m eta \u001b[36m0:00:00\u001b[0m\n",
            "\u001b[2K     \u001b[90m━━━━━━━━━━━━━━━━━━━━━━━━━━━━━━━━━━━━━━━━\u001b[0m \u001b[32m123.6/123.6 kB\u001b[0m \u001b[31m13.9 MB/s\u001b[0m eta \u001b[36m0:00:00\u001b[0m\n",
            "\u001b[2K     \u001b[90m━━━━━━━━━━━━━━━━━━━━━━━━━━━━━━━━━━━━━━━━\u001b[0m \u001b[32m123.2/123.2 kB\u001b[0m \u001b[31m15.1 MB/s\u001b[0m eta \u001b[36m0:00:00\u001b[0m\n",
            "\u001b[?25h  Building wheel for google-search-results (setup.py) ... \u001b[?25l\u001b[?25hdone\n"
          ]
        }
      ],
      "source": [
        "!pip -q install langchain openai tiktoken yfinance google-search-results selenium google-api-python-client pinecone-client google-cloud-storage langchain_experimental requests beautifulsoup4 requests-html langchainhub"
      ]
    },
    {
      "cell_type": "code",
      "source": [
        "from langchain.tools import BaseTool\n",
        "from typing import Optional, Type\n",
        "from langchain.agents import initialize_agent, Tool\n",
        "from langchain.agents import AgentType\n",
        "from langchain.agents import load_tools, initialize_agent, AgentExecutor\n",
        "from langchain_experimental.agents import create_pandas_dataframe_agent\n",
        "from langchain.llms import OpenAI\n",
        "from langchain.tools import Tool\n",
        "from langchain.prompts import ChatPromptTemplate, PromptTemplate, SystemMessagePromptTemplate, AIMessagePromptTemplate, HumanMessagePromptTemplate\n",
        "from langchain.output_parsers import StructuredOutputParser, ResponseSchema\n",
        "from langchain.chat_models import ChatOpenAI\n",
        "from langchain.memory import ConversationBufferMemory\n",
        "from langchain.chains import ConversationChain, LLMChain, create_extraction_chain\n",
        "from langchain.agents import load_tools, ZeroShotAgent\n",
        "from langchain.utilities import GoogleSearchAPIWrapper\n",
        "from langchain.text_splitter import RecursiveCharacterTextSplitter\n",
        "from langchain.docstore.document import Document\n",
        "from googleapiclient.discovery import build\n",
        "import matplotlib.pyplot as plt\n",
        "import requests\n",
        "import os\n",
        "import yfinance as yf\n",
        "import json\n",
        "import pandas as pd\n",
        "import re\n",
        "from langchain.chains.summarize import load_summarize_chain\n",
        "from langchain.prompts.chat import (\n",
        "    ChatPromptTemplate,\n",
        "    SystemMessagePromptTemplate,\n",
        "    HumanMessagePromptTemplate\n",
        ")\n",
        "from pydantic import BaseModel, Field\n",
        "from langchain import hub\n",
        "from langchain import hub\n",
        "from langchain_community.llms import OpenAI\n",
        "from langchain.agents import AgentExecutor, create_react_agent\n",
        "from datetime import datetime\n",
        "from datetime import date\n",
        "from datetime import timedelta"
      ],
      "metadata": {
        "id": "cAneLvqTgjw5",
        "colab": {
          "base_uri": "https://localhost:8080/"
        },
        "outputId": "98984ff6-4e43-4361-96fc-0c355c2a364a"
      },
      "execution_count": 2,
      "outputs": [
        {
          "output_type": "stream",
          "name": "stderr",
          "text": [
            "/usr/local/lib/python3.10/dist-packages/yfinance/base.py:48: FutureWarning: The default dtype for empty Series will be 'object' instead of 'float64' in a future version. Specify a dtype explicitly to silence this warning.\n",
            "  _empty_series = pd.Series()\n"
          ]
        }
      ]
    },
    {
      "cell_type": "code",
      "source": [
        "def get_stock_price(symbol):\n",
        "    ticker = yf.Ticker(symbol)\n",
        "    todays_data = ticker.history(period='1d')\n",
        "    return round(todays_data['Close'][0], 2)\n",
        "\n"
      ],
      "metadata": {
        "id": "vrL9CYtJgSrg"
      },
      "execution_count": 4,
      "outputs": []
    },
    {
      "cell_type": "code",
      "source": [
        "def calculate_trend_analysis(symbol):\n",
        "  today = date.today() - timedelta(days=6)\n",
        "  now = datetime.now()\n",
        "  today_date = now.strftime('%Y-%m-%d')\n",
        "  current_year = datetime.now().year\n",
        "  current_year_start_date = str(current_year) + \"-01-01\"\n",
        "  last_year = current_year - 1\n",
        "  year_before_last = last_year - 1\n",
        "  last_year_start_date = str(last_year) + \"-01-01\"\n",
        "  last_year_end_date = str(last_year) + \"-12-31\"\n",
        "  year_before_last_start_date = str(year_before_last) + \"-01-01\"\n",
        "  year_before_last_ending_date = str(year_before_last) + \"-12-31\"\n",
        "  historical_stock_data = yf.download(symbol, year_before_last_start_date, today_date)\n",
        "  historical_stock_data_df = pd.DataFrame(historical_stock_data)\n",
        "  historical_stock_data_df['lastDayOpen'] = historical_stock_data['Open'].shift(1)\n",
        "  historical_stock_data_df['lastDayHigh'] = historical_stock_data['High'].shift(1)\n",
        "  historical_stock_data_df['lastDayLow'] = historical_stock_data['Low'].shift(1)\n",
        "  historical_stock_data_df['lastDayClose'] = historical_stock_data['Close'].shift(1)\n",
        "  historical_stock_data_df['lastDayVolume'] = historical_stock_data['Volume'].shift(1)\n",
        "  historical_stock_data_df.reset_index(inplace = True)\n",
        "  today_date = now.strftime('%Y-%m-%d')\n",
        "  yesterday = today - timedelta(days=7)\n",
        "  yesterday_date = yesterday.strftime('%Y-%m-%d')\n",
        "  yesterday_data = historical_stock_data_df[historical_stock_data_df['Date'] == yesterday_date]\n",
        "\n",
        "  if not yesterday_data.empty:\n",
        "    yesterday_lastDayHigh = yesterday_data['lastDayHigh'].values[0]\n",
        "    yesterday_lastDayClose = yesterday_data['lastDayClose'].values[0]\n",
        "    yesterday_lastDayLow = yesterday_data['lastDayLow'].values[0]\n",
        "  df=historical_stock_data_df\n",
        "  df['Price Change'] = df['Close'] - df['lastDayClose']\n",
        "  df['Gain'] = df['Price Change'].apply(lambda x: x if x > 0 else 0)\n",
        "  df['Loss'] = df['Price Change'].apply(lambda x: -x if x < 0 else 0)\n",
        "  period = 14\n",
        "  df['Avg Gain'] = df['Gain'].rolling(window=period).mean()\n",
        "  df['Avg Loss'] = df['Loss'].rolling(window=period).mean()\n",
        "  df['RS'] = df['Avg Gain'] / df['Avg Loss']\n",
        "  df['RSI'] = 100 - (100 / (1 + df['RS']))\n",
        "  df.dropna(inplace=True)\n",
        "  df.drop(['Price Change', 'Gain', 'Loss', 'Avg Gain', 'Avg Loss', 'RS'], axis=1, inplace=True)\n",
        "  df1 = df[['Date', 'RSI']]\n",
        "  yesterday_RSIDF = df1[df1['Date'] == yesterday_date]\n",
        "  window_size = 20  # You can adjust the window size as needed\n",
        "  df['SMA'] = df['Close'].rolling(window=window_size).mean()\n",
        "\n",
        "# Calculate Exponential Moving Average (EMA)\n",
        "  alpha = 2 / (window_size + 1)  # You can adjust the smoothing factor (alpha) as needed\n",
        "  df['EMA'] = df['Close'].ewm(alpha=alpha, adjust=False).mean()\n",
        "\n",
        "# Calculate Weighted Moving Average (WMA)\n",
        "  weights = pd.Series(range(1, window_size + 1))  # You can adjust the weights as needed\n",
        "  df['WMA'] = df['Close'].rolling(window=window_size).apply(lambda prices: (prices * weights).sum() / weights.sum(), raw=True)\n",
        "  df1=df[['Date','Close','SMA','EMA','WMA']]\n",
        "  yesterday_MA = df1[df1['Date'] == yesterday_date]\n",
        "# Note: For the first window_size - 1 rows, NaN will be produced as there won't be enough data for the moving averages.\n",
        "# You may choose to drop or handle these NaN values as per your requirement.\n",
        "  mac = yesterday_MA['Close'].values[0]\n",
        "  mas = yesterday_MA['SMA'].values[0]\n",
        "  mae = yesterday_MA['EMA'].values[0]\n",
        "  maw = yesterday_MA['WMA'].values[0]\n",
        "  if (mac < mas):\n",
        "    ta1 = f\"Closing Value is less than SMA, It may indicate a downtrend. Closing Value : {mac} , SMA : {mas}. \"\n",
        "  else:\n",
        "    ta1 = f\"Closing Value is greater than SMA, It may indicate a uptrend. Closing Value : {mac} , SMA : {mas}. \"\n",
        "  if (mac < mas):\n",
        "    ta2 = f\"Closing Value is less than EMA, It may indicate a downtrend. Closing Value : {mac} , EMA : {mae}. \"\n",
        "  else:\n",
        "    ta2 = f\"Closing Value is greater than EMA, It may indicate a uptrend. Closing Value : {mac} , EMA : {mae}. \"\n",
        "  if (mac < mas):\n",
        "    ta3 = f\"Closing Value is less than WMA, It may indicate a downtrend. Closing Value : {mac} , WMA : {maw}. \"\n",
        "  else:\n",
        "    ta3 = f\"Closing Value is greater than WMA, It may indicate a uptrend. Closing Value : {mac} , WMA : {maw}. \"\n",
        "\n",
        "  x = ta1 + \"\\n\" + ta2 + \"\\n\" + ta3 + \"\\n\"\n",
        "  return x"
      ],
      "metadata": {
        "id": "ieQ55nlAJQTU"
      },
      "execution_count": 5,
      "outputs": []
    },
    {
      "cell_type": "code",
      "source": [
        "def rsi_calculation(symbol):\n",
        "  today = date.today() - timedelta(days=6)\n",
        "  now = datetime.now()\n",
        "  today_date = now.strftime('%Y-%m-%d')\n",
        "  current_year = datetime.now().year\n",
        "  current_year_start_date = str(current_year) + \"-01-01\"\n",
        "  last_year = current_year - 1\n",
        "  year_before_last = last_year - 1\n",
        "  last_year_start_date = str(last_year) + \"-01-01\"\n",
        "  last_year_end_date = str(last_year) + \"-12-31\"\n",
        "  year_before_last_start_date = str(year_before_last) + \"-01-01\"\n",
        "  year_before_last_ending_date = str(year_before_last) + \"-12-31\"\n",
        "  historical_stock_data = yf.download(symbol, year_before_last_start_date, today_date)\n",
        "  historical_stock_data_df = pd.DataFrame(historical_stock_data)\n",
        "  historical_stock_data_df['lastDayOpen'] = historical_stock_data['Open'].shift(1)\n",
        "  historical_stock_data_df['lastDayHigh'] = historical_stock_data['High'].shift(1)\n",
        "  historical_stock_data_df['lastDayLow'] = historical_stock_data['Low'].shift(1)\n",
        "  historical_stock_data_df['lastDayClose'] = historical_stock_data['Close'].shift(1)\n",
        "  historical_stock_data_df['lastDayVolume'] = historical_stock_data['Volume'].shift(1)\n",
        "  historical_stock_data_df.reset_index(inplace = True)\n",
        "  today_date = now.strftime('%Y-%m-%d')\n",
        "  yesterday = today - timedelta(days=7)\n",
        "  yesterday_date = yesterday.strftime('%Y-%m-%d')\n",
        "  yesterday_data = historical_stock_data_df[historical_stock_data_df['Date'] == yesterday_date]\n",
        "\n",
        "# Check if there are any rows for yesterday's date\n",
        "  if not yesterday_data.empty:\n",
        "    yesterday_lastDayHigh = yesterday_data['lastDayHigh'].values[0]\n",
        "    yesterday_lastDayClose = yesterday_data['lastDayClose'].values[0]\n",
        "    yesterday_lastDayLow = yesterday_data['lastDayLow'].values[0]\n",
        "  df=historical_stock_data_df\n",
        "  df['Price Change'] = df['Close'] - df['lastDayClose']\n",
        "  df['Gain'] = df['Price Change'].apply(lambda x: x if x > 0 else 0)\n",
        "  df['Loss'] = df['Price Change'].apply(lambda x: -x if x < 0 else 0)\n",
        "  period = 14\n",
        "  df['Avg Gain'] = df['Gain'].rolling(window=period).mean()\n",
        "  df['Avg Loss'] = df['Loss'].rolling(window=period).mean()\n",
        "  df['RS'] = df['Avg Gain'] / df['Avg Loss']\n",
        "  df['RSI'] = 100 - (100 / (1 + df['RS']))\n",
        "  df.dropna(inplace=True)\n",
        "  df.drop(['Price Change', 'Gain', 'Loss', 'Avg Gain', 'Avg Loss', 'RS'], axis=1, inplace=True)\n",
        "  df1 = df[['Date', 'RSI']]\n",
        "  yesterday_RSIDF = df1[df1['Date'] == yesterday_date]\n",
        "  yRSI = yesterday_RSIDF['RSI'].values[0]\n",
        "  if (yRSI>70):\n",
        "    rsi = f\"Security may be overbought and could potentially drop RSI : {yRSI}. \"\n",
        "  elif (yRSI>30 and yRSI<70):\n",
        "    rsi = f\"It falls in between the range security is neither significantly overbought nor oversold RSI : {yRSI}. \"\n",
        "  elif (yRSI <30):\n",
        "    rsi = f\"Security may be oversold and could potentially rise RSI : {yRSI}. \"\n",
        "  return rsi"
      ],
      "metadata": {
        "id": "GtJwGTn0KzNz"
      },
      "execution_count": 6,
      "outputs": []
    },
    {
      "cell_type": "code",
      "source": [
        "import numpy as np\n",
        "\n",
        "def probability(symbol):\n",
        "  def rsi_value(sentence):\n",
        "    pattern = r\"RSI\\s*:\\s*(\\d+\\.?\\d*)\"\n",
        "\n",
        "    match = re.search(pattern, sentence)\n",
        "    if match:\n",
        "        try:\n",
        "            # Convert matched string to float, handling potential decimal separator variations\n",
        "            yRSI = float(match.group(1).replace(\",\", \"\"))\n",
        "            return yRSI\n",
        "        except ValueError:\n",
        "            raise ValueError(\"Extracted yRSI value is not numeric\")\n",
        "    else:\n",
        "        return None\n",
        "\n",
        "  def ta_value(sentence):\n",
        "  # Regular expression pattern to match \"uptrend\" or \"downtrend\"\n",
        "    pattern = r\"(uptrend|downtrend)\"\n",
        "\n",
        "    # Extract sentiment\n",
        "    match = re.search(pattern, sentence, flags=re.IGNORECASE)\n",
        "    if match:\n",
        "        sentiment = match.group(1).lower()  # Convert to lowercase\n",
        "    else:\n",
        "        raise ValueError(\"Sentence must contain 'uptrend' or 'downtrend'\")\n",
        "    if sentiment == \"uptrend\":\n",
        "      ta_probability = 1.0\n",
        "    elif sentiment == \"downtrend\":\n",
        "      ta_probability = 0.0\n",
        "    else:\n",
        "      raise ValueError(\"Invalid TA value: {}\".format(sentence))\n",
        "    return ta_probability\n",
        "\n",
        "  def volatility_calc(symbol):\n",
        "    historical_data = yf.download(symbol, period=\"10d\")\n",
        "    if len(historical_data) < 2:\n",
        "        raise ValueError(\"Need at least 2 closing prices to calculate volatility.\")\n",
        "\n",
        "    # Calculate daily percentage change\n",
        "    daily_pct_change = historical_data['Close'].pct_change().dropna()\n",
        "\n",
        "    # Calculate daily standard deviation\n",
        "    daily_std = np.std(daily_pct_change)\n",
        "\n",
        "    # Calculate annualized standard deviation of volitility\n",
        "    annualized_std = daily_std * np.sqrt(252)\n",
        "\n",
        "    # Calculate weekly percentage change\n",
        "    weekly_price_change = ((historical_data[\"Close\"].iloc[-1] - historical_data[\"Close\"].iloc[0]) / historical_data[\"Close\"].iloc[0]) * 100\n",
        "\n",
        "    return annualized_std, weekly_price_change\n",
        "\n",
        "  normalized_rsi = rsi_value(rsi_calculation(symbol)) / 100\n",
        "\n",
        "  # Determine prob based on trend analysis\n",
        "  ta_probability = ta_value(calculate_trend_analysis(symbol))\n",
        "\n",
        "  # Determine prob based on volitility & price change\n",
        "  annualized_std_vol, weekly_price_change = volatility_calc(symbol)\n",
        "\n",
        "  # Combine factors using a weighted average\n",
        "  weights = np.array([0.25, 0.25, 0.25, 0.25])  # Adjust weights as needed\n",
        "  factors = np.array([normalized_rsi, ta_probability, annualized_std_vol, weekly_price_change])\n",
        "  probability1 = np.dot(weights, factors)\n",
        "  #print(normalized_rsi, ta_probability, annualized_std_vol, weekly_price_change)\n",
        "  prob = (probability1/1)*100\n",
        "  prob1 = f\"Probability of future earnings: {prob}. \"\n",
        "  return prob1"
      ],
      "metadata": {
        "id": "SJaQjT-SHNPh"
      },
      "execution_count": 7,
      "outputs": []
    },
    {
      "cell_type": "code",
      "source": [
        "class StockPriceRSITrendAnalysisInput(BaseModel):\n",
        "    \"\"\"Input for Stock price check.\"\"\"\n",
        "\n",
        "    stockticker: str = Field(..., description=\"Ticker symbol for stock or index\")\n",
        "\n",
        "class StockChangePercentageCheckInput(BaseModel):\n",
        "    \"\"\"Input for Stock ticker check. for percentage check\"\"\"\n",
        "\n",
        "    stockticker: str = Field(..., description=\"Ticker symbol for stock or index\")\n",
        "    days_ago: int = Field(..., description=\"Int number of days to look back\")\n"
      ],
      "metadata": {
        "id": "aR2p1h8ahKu2"
      },
      "execution_count": 8,
      "outputs": []
    },
    {
      "cell_type": "code",
      "source": [
        "class CompanyStockPriceRSITrendAnalysisTool(BaseTool):\n",
        "    name = \"get_stock_ticker_price\"\n",
        "    description = \"Useful for when you need to find out the price of stock. You should input the stock ticker used on the yfinance API\"\n",
        "\n",
        "    def _run(self, stockticker: str):\n",
        "\n",
        "        def PriceResponse(stockticker):\n",
        "          #getting current price\n",
        "          return f\"Price is {get_stock_price(stockticker)}. \"\n",
        "          #getting past data\n",
        "        def TACalculation(stockticker):\n",
        "          return f\"{calculate_trend_analysis(stockticker)}.\"\n",
        "        def RSICalculation(stockticker):\n",
        "          return f\"{rsi_calculation(stockticker)}.\"\n",
        "\n",
        "        pr = PriceResponse(stockticker)\n",
        "        ta = TACalculation(stockticker)\n",
        "        rsi = RSICalculation(stockticker)\n",
        "\n",
        "        prob = probability(stockticker)\n",
        "        result = pr + \"\\n\" + ta + \"\\n\" + rsi+\"\\n\" + prob\n",
        "        return result\n",
        "\n",
        "\n",
        "    def _arun(self, stockticker: str):\n",
        "        raise NotImplementedError(\"This tool does not support async\")\n",
        "\n",
        "    args_schema: Optional[Type[BaseModel]] = StockPriceRSITrendAnalysisInput"
      ],
      "metadata": {
        "id": "HGlX75uZhob1"
      },
      "execution_count": 9,
      "outputs": []
    },
    {
      "cell_type": "code",
      "source": [
        "class PercentageChangeTool(BaseTool):\n",
        "    name = \"get_price_change_percent\"\n",
        "    description = \"Useful for when you need to find out the percentage change in a stock's value. You should input the stock ticker used on the yfinance API and also input the number of days to check the change over\"\n",
        "\n",
        "    def _run(self, stockticker: str, days_ago: int):\n",
        "        def get_price_change_percent(symbol, days_ago):\n",
        "          ticker = yf.Ticker(symbol)\n",
        "\n",
        "    # Get today's date\n",
        "          end_date = datetime.now()\n",
        "\n",
        "    # Get the date N days ago\n",
        "          start_date = end_date - timedelta(days=days_ago)\n",
        "\n",
        "    # Convert dates to string format that yfinance can accept\n",
        "          start_date = start_date.strftime('%Y-%m-%d')\n",
        "          end_date = end_date.strftime('%Y-%m-%d')\n",
        "\n",
        "    # Get the historical data\n",
        "          historical_data = ticker.history(start=start_date, end=end_date)\n",
        "\n",
        "    # Get the closing price N days ago and today's closing price\n",
        "          old_price = historical_data['Close'].iloc[0]\n",
        "          new_price = historical_data['Close'].iloc[-1]\n",
        "\n",
        "    # Calculate the percentage change\n",
        "          percent_change = ((new_price - old_price) / old_price) * 100\n",
        "\n",
        "          return round(percent_change, 2)\n",
        "        price_change_response = get_price_change_percent(stockticker, days_ago)\n",
        "\n",
        "        return price_change_response\n",
        "\n",
        "    def _arun(self, stockticker: str, days_ago: int):\n",
        "        raise NotImplementedError(\"This tool does not support async\")\n",
        "\n",
        "    args_schema: Optional[Type[BaseModel]] = StockChangePercentageCheckInput"
      ],
      "metadata": {
        "id": "CEAJ8ACP5Cpl"
      },
      "execution_count": 10,
      "outputs": []
    },
    {
      "cell_type": "code",
      "source": [
        "from langchain_community.tools.yahoo_finance_news import YahooFinanceNewsTool"
      ],
      "metadata": {
        "id": "9Yjj2G36Iloe"
      },
      "execution_count": 11,
      "outputs": []
    },
    {
      "cell_type": "code",
      "source": [
        "tools = [CompanyStockPriceRSITrendAnalysisTool(),PercentageChangeTool(),YahooFinanceNewsTool()]"
      ],
      "metadata": {
        "id": "kr0js5ewjvEe"
      },
      "execution_count": 12,
      "outputs": []
    },
    {
      "cell_type": "code",
      "source": [
        "tools"
      ],
      "metadata": {
        "colab": {
          "base_uri": "https://localhost:8080/"
        },
        "id": "F8kQVzGxoamD",
        "outputId": "1814b3aa-caaf-4d12-d191-e67ce78b9c8d"
      },
      "execution_count": 13,
      "outputs": [
        {
          "output_type": "execute_result",
          "data": {
            "text/plain": [
              "[CompanyStockPriceRSITrendAnalysisTool(),\n",
              " PercentageChangeTool(),\n",
              " YahooFinanceNewsTool()]"
            ]
          },
          "metadata": {},
          "execution_count": 13
        }
      ]
    },
    {
      "cell_type": "code",
      "source": [
        "llm = ChatOpenAI(temperature=0, model=\"gpt-3.5-turbo-0613\")"
      ],
      "metadata": {
        "id": "C2ptn9PEoiGZ",
        "colab": {
          "base_uri": "https://localhost:8080/"
        },
        "outputId": "b42b4d0f-ef90-4e5a-beac-0af21d06271c"
      },
      "execution_count": 14,
      "outputs": [
        {
          "output_type": "stream",
          "name": "stderr",
          "text": [
            "/usr/local/lib/python3.10/dist-packages/langchain_core/_api/deprecation.py:117: LangChainDeprecationWarning: The class `langchain_community.chat_models.openai.ChatOpenAI` was deprecated in langchain-community 0.0.10 and will be removed in 0.2.0. An updated version of the class exists in the langchain-openai package and should be used instead. To use it run `pip install -U langchain-openai` and import as `from langchain_openai import ChatOpenAI`.\n",
            "  warn_deprecated(\n"
          ]
        }
      ]
    },
    {
      "cell_type": "code",
      "source": [
        "open_ai_agent = initialize_agent(tools,\n",
        "                        llm,\n",
        "                        agent=AgentType.OPENAI_FUNCTIONS,\n",
        "                        verbose=True)\n"
      ],
      "metadata": {
        "id": "t0KM1rcCob7A",
        "colab": {
          "base_uri": "https://localhost:8080/"
        },
        "outputId": "19477e33-fd1e-4ef5-a3d8-7bdd9735cb25"
      },
      "execution_count": 15,
      "outputs": [
        {
          "output_type": "stream",
          "name": "stderr",
          "text": [
            "/usr/local/lib/python3.10/dist-packages/langchain_core/_api/deprecation.py:117: LangChainDeprecationWarning: The function `initialize_agent` was deprecated in LangChain 0.1.0 and will be removed in 0.2.0. Use Use new agent constructor methods like create_react_agent, create_json_agent, create_structured_chat_agent, etc. instead.\n",
            "  warn_deprecated(\n"
          ]
        }
      ]
    },
    {
      "cell_type": "code",
      "source": [
        "from langchain.agents import AgentExecutor, create_openai_functions_agent\n",
        "from langchain import hub\n",
        "\n",
        "prompt = hub.pull(\"hwchase17/openai-functions-agent\")\n",
        "\n",
        "llm = ChatOpenAI(temperature=0)\n",
        "\n",
        "agent = create_openai_functions_agent(llm, tools, prompt)"
      ],
      "metadata": {
        "id": "AokPklyZJ_dd"
      },
      "execution_count": 16,
      "outputs": []
    },
    {
      "cell_type": "code",
      "source": [
        "agent_executor = AgentExecutor(\n",
        "    agent=agent, tools=tools, verbose=True, return_intermediate_steps=True\n",
        ")"
      ],
      "metadata": {
        "id": "ouXRpijbomLT"
      },
      "execution_count": 17,
      "outputs": []
    },
    {
      "cell_type": "code",
      "source": [
        "q1= \"Should I invest in Nvidia\""
      ],
      "metadata": {
        "id": "LzCeY1T-Jz9H"
      },
      "execution_count": 18,
      "outputs": []
    },
    {
      "cell_type": "code",
      "source": [
        "Q = f\"You are a stock analysis assistant that is able to answer all finance and stocks related questions. Based on the computed data, you decided where or not the outcome is positive or negative in terms of earnings in the future. Be sure to remind the user that all financial suggestions are only suggestions. Query = {q1}\""
      ],
      "metadata": {
        "id": "Bsrf7rtkJ4Yo"
      },
      "execution_count": 19,
      "outputs": []
    },
    {
      "cell_type": "code",
      "source": [
        "dic = agent_executor.invoke({\"input\": Q})\n",
        "dic.get('output')"
      ],
      "metadata": {
        "colab": {
          "base_uri": "https://localhost:8080/",
          "height": 489
        },
        "id": "c8IbK31CXZjS",
        "outputId": "99276290-7635-4b2e-f64d-662f46471161"
      },
      "execution_count": 20,
      "outputs": [
        {
          "output_type": "stream",
          "name": "stdout",
          "text": [
            "\n",
            "\n",
            "\u001b[1m> Entering new AgentExecutor chain...\u001b[0m\n",
            "\u001b[32;1m\u001b[1;3m\n",
            "Invoking: `get_stock_ticker_price` with `{'stockticker': 'NVDA'}`\n",
            "\n",
            "\n",
            "\u001b[0m"
          ]
        },
        {
          "output_type": "stream",
          "name": "stderr",
          "text": [
            "[*********************100%%**********************]  1 of 1 completed\n",
            "[*********************100%%**********************]  1 of 1 completed\n",
            "[*********************100%%**********************]  1 of 1 completed\n",
            "[*********************100%%**********************]  1 of 1 completed\n",
            "[*********************100%%**********************]  1 of 1 completed\n"
          ]
        },
        {
          "output_type": "stream",
          "name": "stdout",
          "text": [
            "\u001b[36;1m\u001b[1;3mPrice is 694.52. \n",
            "Closing Value is greater than SMA, It may indicate a uptrend. Closing Value : 696.4099731445312 , SMA : 617.6749938964844. \n",
            "Closing Value is greater than EMA, It may indicate a uptrend. Closing Value : 696.4099731445312 , EMA : 623.3766714109311. \n",
            "Closing Value is greater than WMA, It may indicate a uptrend. Closing Value : 696.4099731445312 , WMA : 642.797898937407. \n",
            ".\n",
            "Security may be overbought and could potentially drop RSI : 79.9410029498525. .\n",
            "Probability of future earnings: 99.2060336472865. \u001b[0m\u001b[32;1m\u001b[1;3mBased on the analysis of Nvidia (NVDA) stock, the current price is $694.52. The closing value is greater than the Simple Moving Average (SMA), Exponential Moving Average (EMA), and Weighted Moving Average (WMA), indicating a potential uptrend. However, the Relative Strength Index (RSI) is high at 79.94, suggesting that the security may be overbought and could potentially drop.\n",
            "\n",
            "The probability of future earnings is calculated to be 99.21%. This indicates a positive outlook for Nvidia in terms of earnings in the future. However, please remember that all financial suggestions are only suggestions.\u001b[0m\n",
            "\n",
            "\u001b[1m> Finished chain.\u001b[0m\n"
          ]
        },
        {
          "output_type": "execute_result",
          "data": {
            "text/plain": [
              "'Based on the analysis of Nvidia (NVDA) stock, the current price is $694.52. The closing value is greater than the Simple Moving Average (SMA), Exponential Moving Average (EMA), and Weighted Moving Average (WMA), indicating a potential uptrend. However, the Relative Strength Index (RSI) is high at 79.94, suggesting that the security may be overbought and could potentially drop.\\n\\nThe probability of future earnings is calculated to be 99.21%. This indicates a positive outlook for Nvidia in terms of earnings in the future. However, please remember that all financial suggestions are only suggestions.'"
            ],
            "application/vnd.google.colaboratory.intrinsic+json": {
              "type": "string"
            }
          },
          "metadata": {},
          "execution_count": 20
        }
      ]
    },
    {
      "cell_type": "code",
      "source": [
        "q2= \"What is going on with Netflix\""
      ],
      "metadata": {
        "id": "2lYeBRduODWP"
      },
      "execution_count": 27,
      "outputs": []
    },
    {
      "cell_type": "code",
      "source": [
        "Q = f\"You are a stock analysis assistant that is able to answer all finance and stocks related questions. Based on the computed data, you decided where or not the outcome is positive or negative in terms of earnings in the future. Be sure to remind the user that all financial suggestions are only suggestions. Query = {q2}\""
      ],
      "metadata": {
        "id": "KivusiIqOKrj"
      },
      "execution_count": 28,
      "outputs": []
    },
    {
      "cell_type": "code",
      "source": [
        "dic = agent_executor.invoke({\"input\": Q})\n",
        "print(dic.get('output'))"
      ],
      "metadata": {
        "id": "YYe-VS6FiuBw",
        "colab": {
          "base_uri": "https://localhost:8080/"
        },
        "outputId": "802c2d17-1711-409a-ca16-118f0725b6c7"
      },
      "execution_count": 29,
      "outputs": [
        {
          "output_type": "stream",
          "name": "stdout",
          "text": [
            "\n",
            "\n",
            "\u001b[1m> Entering new AgentExecutor chain...\u001b[0m\n",
            "\u001b[32;1m\u001b[1;3m\n",
            "Invoking: `yahoo_finance_news` with `NFLX`\n",
            "\n",
            "\n",
            "\u001b[0m\u001b[38;5;200m\u001b[1;3mHas Netflix (NFLX) Outpaced Other Consumer Discretionary Stocks This Year?\n",
            "Here is how Netflix (NFLX) and Wynn Resorts (WYNN) have performed compared to their sector so far this year.\u001b[0m\u001b[32;1m\u001b[1;3mNetflix (NFLX) has been performing well compared to other consumer discretionary stocks this year. It is important to note that past performance is not indicative of future results. If you are considering investing in Netflix or any other stock, it is recommended to conduct thorough research and consult with a financial advisor before making any investment decisions.\u001b[0m\n",
            "\n",
            "\u001b[1m> Finished chain.\u001b[0m\n",
            "Netflix (NFLX) has been performing well compared to other consumer discretionary stocks this year. It is important to note that past performance is not indicative of future results. If you are considering investing in Netflix or any other stock, it is recommended to conduct thorough research and consult with a financial advisor before making any investment decisions.\n"
          ]
        }
      ]
    },
    {
      "cell_type": "code",
      "source": [
        "q3= \"GOOGL\""
      ],
      "metadata": {
        "id": "vD61SxnfOyoq"
      },
      "execution_count": 24,
      "outputs": []
    },
    {
      "cell_type": "code",
      "source": [
        "Q = f\"You are a stock analysis assistant that is able to answer all finance and stocks related questions. Based on the computed data, you decided where or not the outcome is positive or negative in terms of earnings in the future. Be sure to remind the user that all financial suggestions are only suggestions. Query = {q3}\""
      ],
      "metadata": {
        "id": "bP53SKW5O16t"
      },
      "execution_count": 25,
      "outputs": []
    },
    {
      "cell_type": "code",
      "source": [
        "dic = agent_executor.invoke({\"input\": Q})\n",
        "print(dic.get('output'))"
      ],
      "metadata": {
        "id": "McjrXHOiCFa5",
        "colab": {
          "base_uri": "https://localhost:8080/"
        },
        "outputId": "f197437d-43a5-4e04-9e2c-d519160f53d8"
      },
      "execution_count": 26,
      "outputs": [
        {
          "output_type": "stream",
          "name": "stdout",
          "text": [
            "\n",
            "\n",
            "\u001b[1m> Entering new AgentExecutor chain...\u001b[0m\n",
            "\u001b[32;1m\u001b[1;3m\n",
            "Invoking: `get_stock_ticker_price` with `{'stockticker': 'GOOGL'}`\n",
            "\n",
            "\n",
            "\u001b[0m"
          ]
        },
        {
          "output_type": "stream",
          "name": "stderr",
          "text": [
            "[*********************100%%**********************]  1 of 1 completed\n",
            "[*********************100%%**********************]  1 of 1 completed\n",
            "[*********************100%%**********************]  1 of 1 completed\n",
            "[*********************100%%**********************]  1 of 1 completed\n",
            "[*********************100%%**********************]  1 of 1 completed\n"
          ]
        },
        {
          "output_type": "stream",
          "name": "stdout",
          "text": [
            "\u001b[36;1m\u001b[1;3mPrice is 141.12. \n",
            "Closing Value is greater than SMA, It may indicate a uptrend. Closing Value : 145.91000366210938 , SMA : 145.6090003967285. \n",
            "Closing Value is greater than EMA, It may indicate a uptrend. Closing Value : 145.91000366210938 , EMA : 144.58600754294878. \n",
            "Closing Value is greater than WMA, It may indicate a uptrend. Closing Value : 145.91000366210938 , WMA : 145.874048214867. \n",
            ".\n",
            "It falls in between the range security is neither significantly overbought nor oversold RSI : 49.13379715296487. .\n",
            "Probability of future earnings: -9.061840291189881. \u001b[0m\u001b[32;1m\u001b[1;3mBased on the analysis of the stock ticker GOOGL, the current price is $141.12. The closing value is greater than the Simple Moving Average (SMA), Exponential Moving Average (EMA), and Weighted Moving Average (WMA), indicating a potential uptrend.\n",
            "\n",
            "The Relative Strength Index (RSI) is 49.13, falling in between the range, suggesting that the security is neither significantly overbought nor oversold.\n",
            "\n",
            "The computed probability of future earnings is -9.06, indicating a negative outlook in terms of earnings in the future. Please note that all financial suggestions are only suggestions and may not be indicative of actual outcomes.\u001b[0m\n",
            "\n",
            "\u001b[1m> Finished chain.\u001b[0m\n",
            "Based on the analysis of the stock ticker GOOGL, the current price is $141.12. The closing value is greater than the Simple Moving Average (SMA), Exponential Moving Average (EMA), and Weighted Moving Average (WMA), indicating a potential uptrend.\n",
            "\n",
            "The Relative Strength Index (RSI) is 49.13, falling in between the range, suggesting that the security is neither significantly overbought nor oversold.\n",
            "\n",
            "The computed probability of future earnings is -9.06, indicating a negative outlook in terms of earnings in the future. Please note that all financial suggestions are only suggestions and may not be indicative of actual outcomes.\n"
          ]
        }
      ]
    }
  ]
}

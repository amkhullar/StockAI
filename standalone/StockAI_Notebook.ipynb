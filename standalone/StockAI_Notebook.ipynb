{
  "nbformat": 4,
  "nbformat_minor": 0,
  "metadata": {
    "colab": {
      "provenance": []
    },
    "kernelspec": {
      "name": "python3",
      "display_name": "Python 3"
    },
    "language_info": {
      "name": "python"
    }
  },
  "cells": [
    {
      "cell_type": "code",
      "source": [
        "%pip -q install langchain openai langchain_openai TA-Lib-Precompiled"
      ],
      "metadata": {
        "id": "opjeydBuanOn",
        "colab": {
          "base_uri": "https://localhost:8080/"
        },
        "outputId": "a218e471-cbfb-4459-f30e-420eda4ac8a0"
      },
      "execution_count": null,
      "outputs": [
        {
          "output_type": "stream",
          "name": "stdout",
          "text": [
            "\u001b[2K     \u001b[90m━━━━━━━━━━━━━━━━━━━━━━━━━━━━━━━━━━━━━━━━\u001b[0m \u001b[32m817.7/817.7 kB\u001b[0m \u001b[31m8.2 MB/s\u001b[0m eta \u001b[36m0:00:00\u001b[0m\n",
            "\u001b[2K     \u001b[90m━━━━━━━━━━━━━━━━━━━━━━━━━━━━━━━━━━━━━━━━\u001b[0m \u001b[32m311.2/311.2 kB\u001b[0m \u001b[31m11.3 MB/s\u001b[0m eta \u001b[36m0:00:00\u001b[0m\n",
            "\u001b[2K     \u001b[90m━━━━━━━━━━━━━━━━━━━━━━━━━━━━━━━━━━━━━━━━\u001b[0m \u001b[32m2.9/2.9 MB\u001b[0m \u001b[31m22.1 MB/s\u001b[0m eta \u001b[36m0:00:00\u001b[0m\n",
            "\u001b[2K     \u001b[90m━━━━━━━━━━━━━━━━━━━━━━━━━━━━━━━━━━━━━━━━\u001b[0m \u001b[32m1.9/1.9 MB\u001b[0m \u001b[31m30.7 MB/s\u001b[0m eta \u001b[36m0:00:00\u001b[0m\n",
            "\u001b[2K     \u001b[90m━━━━━━━━━━━━━━━━━━━━━━━━━━━━━━━━━━━━━━━━\u001b[0m \u001b[32m291.3/291.3 kB\u001b[0m \u001b[31m17.3 MB/s\u001b[0m eta \u001b[36m0:00:00\u001b[0m\n",
            "\u001b[2K     \u001b[90m━━━━━━━━━━━━━━━━━━━━━━━━━━━━━━━━━━━━━━━━\u001b[0m \u001b[32m115.2/115.2 kB\u001b[0m \u001b[31m7.6 MB/s\u001b[0m eta \u001b[36m0:00:00\u001b[0m\n",
            "\u001b[2K     \u001b[90m━━━━━━━━━━━━━━━━━━━━━━━━━━━━━━━━━━━━━━━━\u001b[0m \u001b[32m75.6/75.6 kB\u001b[0m \u001b[31m3.0 MB/s\u001b[0m eta \u001b[36m0:00:00\u001b[0m\n",
            "\u001b[2K     \u001b[90m━━━━━━━━━━━━━━━━━━━━━━━━━━━━━━━━━━━━━━━━\u001b[0m \u001b[32m1.8/1.8 MB\u001b[0m \u001b[31m36.3 MB/s\u001b[0m eta \u001b[36m0:00:00\u001b[0m\n",
            "\u001b[2K     \u001b[90m━━━━━━━━━━━━━━━━━━━━━━━━━━━━━━━━━━━━━━━━\u001b[0m \u001b[32m49.4/49.4 kB\u001b[0m \u001b[31m4.0 MB/s\u001b[0m eta \u001b[36m0:00:00\u001b[0m\n",
            "\u001b[2K     \u001b[90m━━━━━━━━━━━━━━━━━━━━━━━━━━━━━━━━━━━━━━━━\u001b[0m \u001b[32m77.9/77.9 kB\u001b[0m \u001b[31m6.2 MB/s\u001b[0m eta \u001b[36m0:00:00\u001b[0m\n",
            "\u001b[2K     \u001b[90m━━━━━━━━━━━━━━━━━━━━━━━━━━━━━━━━━━━━━━━━\u001b[0m \u001b[32m58.3/58.3 kB\u001b[0m \u001b[31m2.1 MB/s\u001b[0m eta \u001b[36m0:00:00\u001b[0m\n",
            "\u001b[2K     \u001b[90m━━━━━━━━━━━━━━━━━━━━━━━━━━━━━━━━━━━━━━━━\u001b[0m \u001b[32m53.0/53.0 kB\u001b[0m \u001b[31m2.4 MB/s\u001b[0m eta \u001b[36m0:00:00\u001b[0m\n",
            "\u001b[2K     \u001b[90m━━━━━━━━━━━━━━━━━━━━━━━━━━━━━━━━━━━━━━━━\u001b[0m \u001b[32m141.1/141.1 kB\u001b[0m \u001b[31m2.7 MB/s\u001b[0m eta \u001b[36m0:00:00\u001b[0m\n",
            "\u001b[?25h"
          ]
        }
      ]
    },
    {
      "cell_type": "code",
      "source": [
        "from langchain_openai import ChatOpenAI\n",
        "from langchain_core.prompts import ChatPromptTemplate, MessagesPlaceholder\n",
        "from langchain.agents import tool\n",
        "import yfinance as yf\n",
        "from langchain.prompts import MessagesPlaceholder\n",
        "from langchain_core.messages import AIMessage, HumanMessage\n",
        "from langchain.agents.format_scratchpad.openai_tools import (\n",
        "format_to_openai_tool_messages,\n",
        ")\n",
        "from langchain.agents.output_parsers.openai_tools import OpenAIToolsAgentOutputParser\n",
        "from langchain.agents import AgentExecutor\n"
      ],
      "metadata": {
        "id": "oIEE-GC9apIL"
      },
      "execution_count": null,
      "outputs": []
    },
    {
      "cell_type": "code",
      "source": [
        "from datetime import datetime, timedelta\n",
        "import pandas as pd\n",
        "import yfinance as yf\n",
        "import talib"
      ],
      "metadata": {
        "id": "EiiSk89c5RWx"
      },
      "execution_count": null,
      "outputs": []
    },
    {
      "cell_type": "code",
      "source": [
        "@tool\n",
        "def get_company_symbol(symbol:str) -> str:\n",
        "  \"\"\"Returns the ticker of the company inputted\"\"\"\n",
        "  ticker = yf.Ticker(symbol)\n",
        "  return ticker"
      ],
      "metadata": {
        "id": "heXWrcNUK56Z"
      },
      "execution_count": null,
      "outputs": []
    },
    {
      "cell_type": "code",
      "source": [
        "@tool\n",
        "def get_stock_price(symbol:str) -> float:\n",
        "  \"\"\"Returns current price of ticker\"\"\"\n",
        "  ticker = yf.Ticker(symbol)\n",
        "  todays_data = ticker.history(period='1d')\n",
        "  return round(todays_data['Close'][0], 2)"
      ],
      "metadata": {
        "id": "dzGzZ6x04svL"
      },
      "execution_count": null,
      "outputs": []
    },
    {
      "cell_type": "code",
      "source": [
        "import numpy as np"
      ],
      "metadata": {
        "id": "eiEYnc2FI26J"
      },
      "execution_count": null,
      "outputs": []
    },
    {
      "cell_type": "code",
      "source": [
        "@tool\n",
        "def calculate_rsi(symbol:str) -> float:\n",
        "    \"\"\"Return RSI Calculation of ticker\"\"\"\n",
        "    end_date = datetime.today().strftime('%Y-%m-%d')\n",
        "    start_date = (datetime.today() - timedelta(days=100)).strftime('%Y-%m-%d')\n",
        "    data = yf.download(symbol, start=start_date, end=end_date)\n",
        "    delta = data['Adj Close'].diff(1)\n",
        "    delta = delta[1:]\n",
        "    up = delta.copy()\n",
        "    down = delta.copy()\n",
        "    up[up < 0] = 0\n",
        "    down[down > 0] = 0\n",
        "    avg_gain = up.rolling(window=14).mean()\n",
        "    avg_loss = abs(down.rolling(window=14).mean())\n",
        "    rs = avg_gain / avg_loss\n",
        "    rsi = 100.0 - (100.0 / (1.0 + rs))\n",
        "    data['RSI'] = rsi\n",
        "    temp = data['RSI'].iloc[-1]\n",
        "    rsi = format(temp,\".2f\")\n",
        "    return rsi"
      ],
      "metadata": {
        "id": "gTZVIV9gEanA"
      },
      "execution_count": null,
      "outputs": []
    },
    {
      "cell_type": "code",
      "source": [
        "@tool\n",
        "def ma(ticker:str) -> str:\n",
        "    \"\"\"Returns Moving Average of ticker\"\"\"\n",
        "    # Define the function to calculate WMA\n",
        "    def calculate_wma(prices):\n",
        "        weights = np.arange(1, 15)\n",
        "        wma = np.convolve(prices, weights, mode='valid') / weights.sum()\n",
        "        return np.concatenate((np.full(13, np.nan), wma), axis=0)\n",
        "\n",
        "    # Download stock data\n",
        "    end_date = datetime.today().strftime('%Y-%m-%d')\n",
        "    start_date = (datetime.today() - timedelta(days=100)).strftime('%Y-%m-%d')\n",
        "    data = yf.download(ticker, start=start_date, end=end_date)\n",
        "\n",
        "    if data.empty:\n",
        "        return None  # Return None if no data is retrieved\n",
        "\n",
        "    # Calculate SMA\n",
        "    data['SMA'] = data['Close'].rolling(window=14).mean()\n",
        "\n",
        "    # Calculate EMA\n",
        "    data['EMA'] = data['Close'].ewm(span=14, adjust=False).mean()\n",
        "\n",
        "    # Calculate WMA\n",
        "    data['WMA'] = calculate_wma(data['Close'].values)\n",
        "    mac = format(data['Close'].iloc[-1],\".2f\")\n",
        "    mas = format(data['SMA'].iloc[-1],\".2f\")\n",
        "    mae = format(data['EMA'].iloc[-1],\".2f\")\n",
        "    maw = format(data['WMA'].iloc[-1],\".2f\")\n",
        "    if (mac < mas):\n",
        "      ta1 = f\"Closing Value is less than SMA, It may indicate a downtrend. Closing Value : {mac} , SMA : {mas}. \"\n",
        "    else:\n",
        "      ta1 = f\"Closing Value is greater than SMA, It may indicate a uptrend. Closing Value : {mac} , SMA : {mas}. \"\n",
        "    if (mac < mas):\n",
        "      ta2 = f\"Closing Value is less than EMA, It may indicate a downtrend. Closing Value : {mac} , EMA : {mae}. \"\n",
        "    else:\n",
        "      ta2 = f\"Closing Value is greater than EMA, It may indicate a uptrend. Closing Value : {mac} , EMA : {mae}. \"\n",
        "    if (mac < mas):\n",
        "      ta3 = f\"Closing Value is less than WMA, It may indicate a downtrend. Closing Value : {mac} , WMA : {maw}. \"\n",
        "    else:\n",
        "      ta3 = f\"Closing Value is greater than WMA, It may indicate a uptrend. Closing Value : {mac} , WMA : {maw}. \"\n",
        "\n",
        "    x = ta1 + \"\\n\" + ta2 + \"\\n\" + ta3 + \"\\n\"\n",
        "    return x"
      ],
      "metadata": {
        "id": "iebkpatEIaLt"
      },
      "execution_count": null,
      "outputs": []
    },
    {
      "cell_type": "code",
      "source": [
        "from sklearn.ensemble import RandomForestRegressor\n",
        "from sklearn.model_selection import train_test_split\n",
        "from sklearn.metrics import mean_squared_error"
      ],
      "metadata": {
        "id": "UWeyOfq-I5wA"
      },
      "execution_count": null,
      "outputs": []
    },
    {
      "cell_type": "code",
      "source": [
        "@tool\n",
        "def predict_stock(ticker:str) -> float:\n",
        "  \"\"\"Predicts the next day's closing value using ticker\"\"\"\n",
        "\n",
        "  # Fetch historical stock data from Yahoo Finance\n",
        "  stock_data = yf.download(ticker,period='max')\n",
        "\n",
        "  # Calculate additional features\n",
        "  stock_data['SMA_50'] = stock_data['Close'].rolling(window=50).mean()  # 50-day Simple Moving Average\n",
        "  stock_data['SMA_200'] = stock_data['Close'].rolling(window=200).mean()  # 200-day Simple Moving Average\n",
        "  stock_data['Daily_Return'] = stock_data['Close'].pct_change()  # Daily Return\n",
        "  stock_data['Volatility'] = stock_data['Daily_Return'].rolling(window=20).std()  # 20-day Volatility\n",
        "\n",
        "  # Drop rows with NaN values\n",
        "  stock_data.dropna(inplace=True)\n",
        "\n",
        "  # Define features and target variable\n",
        "  X=stock_data.drop(['Adj Close'] ,axis=1)# Features\n",
        "  y = stock_data['Adj Close']\n",
        "  regressor = RandomForestRegressor(n_estimators=100, max_depth=None)\n",
        "  regressor.fit(X,y)\n",
        "  X_latest = X.tail(1)\n",
        "  # Make predictions using the latest feature set\n",
        "  predictions = regressor.predict(X_latest)\n",
        "  # Calculate MSE for each prediction\n",
        "  mse_values = mean_squared_error(y.tail(1), predictions)\n",
        "\n",
        "  # Get the best prediction\n",
        "  best_prediction = predictions[0]\n",
        "  predicted_price = format(best_prediction,\".2f\")\n",
        "  # Print the best prediction\n",
        "  return best_prediction"
      ],
      "metadata": {
        "id": "g_qfjAvsIeYp"
      },
      "execution_count": null,
      "outputs": []
    },
    {
      "cell_type": "code",
      "source": [
        "@tool\n",
        "def candlestick(ticker:str) -> str:\n",
        "  \"\"\"ReturnReturns the candlestick pattern as well as its learning by ticker\"\"\"\n",
        "  candlestick_patterns = {\n",
        "    'CDL2CROWS':'Two Crows',\n",
        "    'CDL3BLACKCROWS':'Three Black Crows',\n",
        "    'CDL3INSIDE':'Three Inside Up/Down',\n",
        "    'CDL3LINESTRIKE':'Three-Line Strike',\n",
        "    'CDL3OUTSIDE':'Three Outside Up/Down',\n",
        "    'CDL3STARSINSOUTH':'Three Stars In The South',\n",
        "    'CDL3WHITESOLDIERS':'Three Advancing White Soldiers',\n",
        "    'CDLABANDONEDBABY':'Abandoned Baby',\n",
        "    'CDLADVANCEBLOCK':'Advance Block',\n",
        "    'CDLBELTHOLD':'Belt-hold',\n",
        "    'CDLBREAKAWAY':'Breakaway',\n",
        "    'CDLCLOSINGMARUBOZU':'Closing Marubozu',\n",
        "    'CDLCONCEALBABYSWALL':'Concealing Baby Swallow',\n",
        "    'CDLCOUNTERATTACK':'Counterattack',\n",
        "    'CDLDARKCLOUDCOVER':'Dark Cloud Cover',\n",
        "    'CDLDOJI':'Doji',\n",
        "    'CDLDOJISTAR':'Doji Star',\n",
        "    'CDLDRAGONFLYDOJI':'Dragonfly Doji',\n",
        "    'CDLENGULFING':'Engulfing Pattern',\n",
        "    'CDLEVENINGDOJISTAR':'Evening Doji Star',\n",
        "    'CDLEVENINGSTAR':'Evening Star',\n",
        "    'CDLGAPSIDESIDEWHITE':'Up/Down-gap side-by-side white lines',\n",
        "    'CDLGRAVESTONEDOJI':'Gravestone Doji',\n",
        "    'CDLHAMMER':'Hammer',\n",
        "    'CDLHANGINGMAN':'Hanging Man',\n",
        "    'CDLHARAMI':'Harami Pattern',\n",
        "    'CDLHARAMICROSS':'Harami Cross Pattern',\n",
        "    'CDLHIGHWAVE':'High-Wave Candle',\n",
        "    'CDLHIKKAKE':'Hikkake Pattern',\n",
        "    'CDLHIKKAKEMOD':'Modified Hikkake Pattern',\n",
        "    'CDLHOMINGPIGEON':'Homing Pigeon',\n",
        "    'CDLIDENTICAL3CROWS':'Identical Three Crows',\n",
        "    'CDLINNECK':'In-Neck Pattern',\n",
        "    'CDLINVERTEDHAMMER':'Inverted Hammer',\n",
        "    'CDLKICKING':'Kicking',\n",
        "    'CDLKICKINGBYLENGTH':'Kicking - bull/bear determined by the longer marubozu',\n",
        "    'CDLLADDERBOTTOM':'Ladder Bottom',\n",
        "    'CDLLONGLEGGEDDOJI':'Long Legged Doji',\n",
        "    'CDLLONGLINE':'Long Line Candle',\n",
        "    'CDLMARUBOZU':'Marubozu',\n",
        "    'CDLMATCHINGLOW':'Matching Low',\n",
        "    'CDLMATHOLD':'Mat Hold',\n",
        "    'CDLMORNINGDOJISTAR':'Morning Doji Star',\n",
        "    'CDLMORNINGSTAR':'Morning Star',\n",
        "    'CDLONNECK':'On-Neck Pattern',\n",
        "    'CDLPIERCING':'Piercing Pattern',\n",
        "    'CDLRICKSHAWMAN':'Rickshaw Man',\n",
        "    'CDLRISEFALL3METHODS':'Rising/Falling Three Methods',\n",
        "    'CDLSEPARATINGLINES':'Separating Lines',\n",
        "    'CDLSHOOTINGSTAR':'Shooting Star',\n",
        "    'CDLSHORTLINE':'Short Line Candle',\n",
        "    'CDLSPINNINGTOP':'Spinning Top',\n",
        "    'CDLSTALLEDPATTERN':'Stalled Pattern',\n",
        "    'CDLSTICKSANDWICH':'Stick Sandwich',\n",
        "    'CDLTAKURI':'Takuri (Dragonfly Doji with very long lower shadow)',\n",
        "    'CDLTASUKIGAP':'Tasuki Gap',\n",
        "    'CDLTHRUSTING':'Thrusting Pattern',\n",
        "    'CDLTRISTAR':'Tristar Pattern',\n",
        "    'CDLUNIQUE3RIVER':'Unique 3 River',\n",
        "    'CDLUPSIDEGAP2CROWS':'Upside Gap Two Crows',\n",
        "    'CDLXSIDEGAP3METHODS':'Upside/Downside Gap Three Methods'\n",
        "  }\n",
        "  start_date = datetime.today() - timedelta(days=100)\n",
        "  df = yf.download(ticker, start=start_date, end=datetime.today())\n",
        "  df = df.reset_index()\n",
        "  df=df.drop(columns=['Adj Close','Volume'])\n",
        "  for pattern, pattern_name in candlestick_patterns.items():\n",
        "      pattern_result = getattr(talib, pattern)(df['Open'], df['High'], df['Low'], df['Close'])\n",
        "      df[pattern_name] = pattern_result.astype(bool)\n",
        "  data=df\n",
        "  data['PositiveEngulfing'] = data['Engulfing Pattern'] > 0\n",
        "  data['NegativeEngulfing'] = data['Engulfing Pattern'] < 0\n",
        "  data.drop(columns=['Engulfing Pattern'])\n",
        "  pattern_trend = {\n",
        "    'Two Crows': 'bearish',\n",
        "    'Three Black Crows': 'bearish',\n",
        "    'Three Inside Up/Down': 'bullish/bearish',\n",
        "    'Three-Line Strike': 'bullish/bearish',\n",
        "    'Three Outside Up/Down': 'bullish/bearish',\n",
        "    'Three Stars In The South': 'bullish',\n",
        "    'Three Advancing White Soldiers': 'bullish',\n",
        "    'Abandoned Baby': 'bullish',\n",
        "    'Advance Block': 'bearish',\n",
        "    'Belt-hold': 'bullish',\n",
        "    'Breakaway': 'bullish',\n",
        "    'Closing Marubozu': 'bullish',\n",
        "    'Concealing Baby Swallow': 'bullish',\n",
        "    'Counterattack': 'bullish',\n",
        "    'Dark Cloud Cover': 'bearish',\n",
        "    'Doji': 'neutral',\n",
        "    'Doji Star': 'neutral',\n",
        "    'Dragonfly Doji': 'bullish',\n",
        "    'Engulfing Pattern': 'bullish',\n",
        "    'Evening Doji Star': 'bearish',\n",
        "    'Evening Star': 'bearish',\n",
        "    'Up/Down-gap side-by-side white lines': 'bullish',\n",
        "    'Gravestone Doji': 'bearish',\n",
        "    'Hammer': 'bullish',\n",
        "    'Hanging Man': 'bearish',\n",
        "    'Harami Pattern': 'bullish',\n",
        "    'Harami Cross Pattern': 'bullish',\n",
        "    'High-Wave Candle': 'neutral',\n",
        "    'Hikkake Pattern': 'neutral',\n",
        "    'Modified Hikkake Pattern': 'neutral',\n",
        "    'Homing Pigeon': 'bullish',\n",
        "    'Identical Three Crows': 'bearish',\n",
        "    'In-Neck Pattern': 'bearish',\n",
        "    'Inverted Hammer': 'bullish',\n",
        "    'Kicking': 'bullish',\n",
        "    'Kicking - bull/bear determined by the longer marubozu': 'bullish',\n",
        "    'Ladder Bottom': 'bullish',\n",
        "    'Long Legged Doji': 'neutral',\n",
        "    'Long Line Candle': 'neutral',\n",
        "    'Marubozu': 'bullish',\n",
        "    'Matching Low': 'bullish',\n",
        "    'Mat Hold': 'bullish',\n",
        "    'Morning Doji Star': 'bullish',\n",
        "    'Morning Star': 'bullish',\n",
        "    'On-Neck Pattern': 'bearish',\n",
        "    'Piercing Pattern': 'bullish',\n",
        "    'Rickshaw Man': 'neutral',\n",
        "    'Rising/Falling Three Methods': 'bullish',\n",
        "    'Separating Lines': 'bullish',\n",
        "    'Shooting Star': 'bearish',\n",
        "    'Short Line Candle': 'neutral',\n",
        "    'Spinning Top': 'neutral',\n",
        "    'Stalled Pattern': 'neutral',\n",
        "    'Stick Sandwich': 'neutral',\n",
        "    'Takuri (Dragonfly Doji with very long lower shadow)': 'bullish',\n",
        "    'Tasuki Gap': 'neutral',\n",
        "    'Thrusting Pattern': 'bullish',\n",
        "    'Tristar Pattern': 'neutral',\n",
        "    'Unique 3 River': 'bullish',\n",
        "    'Upside Gap Two Crows': 'bearish',\n",
        "    'Upside/Downside Gap Three Methods': 'bullish',\n",
        "    'PositiveEngulfing': 'bullish',\n",
        "    'NegativeEngulfing': 'bearish'\n",
        "  }\n",
        "  pattern_columns = data.columns[5:]\n",
        "\n",
        "  latest_dates = {}\n",
        "\n",
        "  for column in pattern_columns:\n",
        "      pattern_data = data[data[column]]\n",
        "      if not pattern_data.empty:\n",
        "          latest_date = pattern_data['Date'].iloc[-1]\n",
        "          latest_dates[column] = latest_date\n",
        "\n",
        "  Candle_DF = pd.DataFrame(list(latest_dates.items()), columns=['Date','Pattern'])\n",
        "  Candle_DF_sorted = Candle_DF.sort_values(by='Date', ascending=True)\n",
        "  latest_row = Candle_DF_sorted.loc[2]\n",
        "  latest_date = latest_row['Date']\n",
        "  latest_pattern = latest_row['Pattern']\n",
        "  x=f'Latest Date: {latest_pattern} \\nPattern: {latest_date} \\nTrend: {pattern_trend[latest_date]}'\n",
        "  return x"
      ],
      "metadata": {
        "id": "ZFi2-ksaK7sa"
      },
      "execution_count": null,
      "outputs": []
    },
    {
      "cell_type": "code",
      "source": [
        "tools = [get_company_symbol,get_stock_price,calculate_rsi,ma,predict_stock,candlestick]"
      ],
      "metadata": {
        "id": "zwgJPf4e5bMs"
      },
      "execution_count": null,
      "outputs": []
    },
    {
      "cell_type": "code",
      "source": [
        "from langchain_community.llms import HuggingFaceEndpoint\n",
        "from langchain_community.chat_models.huggingface import ChatHuggingFace"
      ],
      "metadata": {
        "id": "iroHE0DSJAWx"
      },
      "execution_count": null,
      "outputs": []
    },
    {
      "cell_type": "code",
      "source": [
        "llm = HuggingFaceEndpoint(huggingfacehub_api_token= \"api_token\",repo_id=\"mistralai/Mixtral-8x7B-Instruct-v0.1\")"
      ],
      "metadata": {
        "colab": {
          "base_uri": "https://localhost:8080/"
        },
        "id": "Z_Xkt5tYJNf2",
        "outputId": "b07b5894-7261-431b-9292-23dc85dea3c3"
      },
      "execution_count": null,
      "outputs": [
        {
          "output_type": "stream",
          "name": "stdout",
          "text": [
            "Token will not been saved to git credential helper. Pass `add_to_git_credential=True` if you want to set the git credential as well.\n",
            "Token is valid (permission: write).\n",
            "Your token has been saved to /root/.cache/huggingface/token\n",
            "Login successful\n"
          ]
        }
      ]
    },
    {
      "cell_type": "code",
      "source": [
        "chat_model = ChatHuggingFace(llm=llm)"
      ],
      "metadata": {
        "id": "Hpnj7pzLJl5O"
      },
      "execution_count": null,
      "outputs": []
    },
    {
      "cell_type": "code",
      "source": [
        "tools = [get_company_symbol,get_stock_price,calculate_rsi,ma,predict_stock,candlestick]"
      ],
      "metadata": {
        "id": "9eVo-lqwJ2LA"
      },
      "execution_count": null,
      "outputs": []
    },
    {
      "cell_type": "code",
      "source": [
        "from langchain.agents import initialize_agent\n",
        "agent = initialize_agent(tools,\n",
        "                         llm,\n",
        "                         agent=\"zero-shot-react-description\",\n",
        "                         verbose = True,\n",
        "                         handle_parsing_errors=True)"
      ],
      "metadata": {
        "id": "JHBqkaz6J57O"
      },
      "execution_count": null,
      "outputs": []
    },
    {
      "cell_type": "code",
      "source": [
        "agent.agent.llm_chain.prompt.template"
      ],
      "metadata": {
        "colab": {
          "base_uri": "https://localhost:8080/",
          "height": 139
        },
        "id": "_CuXn8cGWM74",
        "outputId": "3a269457-3855-4dd6-f265-06e07c872210"
      },
      "execution_count": null,
      "outputs": [
        {
          "output_type": "execute_result",
          "data": {
            "text/plain": [
              "\"Answer the following questions as best you can. You have access to the following tools:\\n\\nget_company_symbol: get_company_symbol(symbol: str) -> str - Returns the ticker of the company inputted\\nget_stock_price: get_stock_price(symbol: str) -> float - Returns current price of ticker\\ncalculate_rsi: calculate_rsi(symbol: str) -> float - Return RSI Calculation of ticker\\nma: ma(ticker: str) -> str - Returns Moving Average of ticker\\npredict_stock: predict_stock(ticker: str) -> float - Predicts the next day's closing value using ticker\\ncandlestick: candlestick(ticker: str) -> str - ReturnReturns the candlestick pattern as well as its learning by ticker\\n\\nUse the following format:\\n\\nQuestion: the input question you must answer\\nThought: you should always think about what to do\\nAction: the action to take, should be one of [get_company_symbol, get_stock_price, calculate_rsi, ma, predict_stock, candlestick]\\nAction Input: the input to the action\\nObservation: the result of the action\\n... (this Thought/Action/Action Input/Observation can repeat N times)\\nThought: I now know the final answer\\nFinal Answer: the final answer to the original input question\\n\\nBegin!\\n\\nQuestion: {input}\\nThought:{agent_scratchpad}\""
            ],
            "application/vnd.google.colaboratory.intrinsic+json": {
              "type": "string"
            }
          },
          "metadata": {},
          "execution_count": 120
        }
      ]
    },
    {
      "cell_type": "code",
      "source": [
        "sys_message = \"You are StockAI, a stock market assistant. Answer the following questions as best you can. You have access to the following tools:\\n\\nget_company_symbol: get_company_symbol(symbol: str) -> str - Returns the ticker of the company inputted - Use this before all other tools get_stock_price: get_stock_price(symbol: str) -> float - Returns current price of ticker calculate_rsi: calculate_rsi(symbol: str) -> float - Return RSI Calculation of ticker ma: ma(ticker: str) -> str - Returns Moving Average of ticker predict_stock: predict_stock(ticker: str) -> float - Predicts the next day's closing value using ticker candlestick: candlestick(ticker: str) -> str - Returns the candlestick pattern as well as its learning by ticker\\n\\nUse the following format:\\n\\nQuestion: the input question you must answer\\nThought: you should always think about what to do\\nAction: the action to take, should be one of [get_company_symbol, get_stock_price, calculate_rsi, ma, predict_stock, candlestick]\\nAction Input: the input to the action\\nObservation: the result of the action... (this Thought/Action/Action Input/Observation can repeat N times)\\nThought: I now know the final answer\\nFinal Answer: show outputs of all observations and answer to the input question\\n\\nBegin!\\n\\nQuestion: {input}\\nThought:{agent_scratchpad}\""
      ],
      "metadata": {
        "id": "OFYp4gd5SHof"
      },
      "execution_count": null,
      "outputs": []
    },
    {
      "cell_type": "code",
      "source": [
        "agent.agent.llm_chain.prompt.template = sys_message"
      ],
      "metadata": {
        "id": "unrqMi4MS5gQ"
      },
      "execution_count": null,
      "outputs": []
    },
    {
      "cell_type": "code",
      "source": [
        "agent.agent.llm_chain.prompt.template"
      ],
      "metadata": {
        "colab": {
          "base_uri": "https://localhost:8080/",
          "height": 139
        },
        "id": "bGCsmdtbS8ZZ",
        "outputId": "dec8463d-949e-406b-f077-afcb96bc594b"
      },
      "execution_count": null,
      "outputs": [
        {
          "output_type": "execute_result",
          "data": {
            "text/plain": [
              "\"You are StockAI, a stock market assistant. Answer the following questions as best you can. You have access to the following tools:\\n\\nget_company_symbol: get_company_symbol(symbol: str) -> str - Returns the ticker of the company inputted - Use this before all other tools get_stock_price: get_stock_price(symbol: str) -> float - Returns current price of ticker calculate_rsi: calculate_rsi(symbol: str) -> float - Return RSI Calculation of ticker ma: ma(ticker: str) -> str - Returns Moving Average of ticker predict_stock: predict_stock(ticker: str) -> float - Predicts the next day's closing value using ticker candlestick: candlestick(ticker: str) -> str - Returns the candlestick pattern as well as its learning by ticker\\n\\nUse the following format:\\n\\nQuestion: the input question you must answer\\nThought: you should always think about what to do\\nAction: the action to take, should be one of [get_company_symbol, get_stock_price, calculate_rsi, ma, predict_stock, candlestick]\\nAction Input: the input to the action\\nObservation: the result of the action... (this Thought/Action/Action Input/Observation can repeat N times)\\nThought: I now know the final answer\\nFinal Answer: show outputs of all observations and answer to the input question\\n\\nBegin!\\n\\nQuestion: {input}\\nThought:{agent_scratchpad}\""
            ],
            "application/vnd.google.colaboratory.intrinsic+json": {
              "type": "string"
            }
          },
          "metadata": {},
          "execution_count": 123
        }
      ]
    },
    {
      "cell_type": "code",
      "source": [
        "agent.invoke(\"is goog doing well\")"
      ],
      "metadata": {
        "colab": {
          "base_uri": "https://localhost:8080/"
        },
        "id": "1VJS6sTfS-YD",
        "outputId": "9d7fb503-5443-4ae7-e088-b13c73039656"
      },
      "execution_count": null,
      "outputs": [
        {
          "output_type": "stream",
          "name": "stdout",
          "text": [
            "\n",
            "\n",
            "\u001b[1m> Entering new AgentExecutor chain...\u001b[0m\n",
            "\u001b[32;1m\u001b[1;3m I first need to get the stock symbol for the company named goog\n",
            "Action: get_company_symbol\n",
            "Action Input: goog\u001b[0m\n",
            "Observation: \u001b[36;1m\u001b[1;3myfinance.Ticker object <GOOG>\u001b[0m\n",
            "Thought:\u001b[32;1m\u001b[1;3m Now that I have the stock symbol, I can get the current price of the stock to determine if it is doing well\n",
            "Action: get_stock_price\n",
            "Action Input: GOOG\u001b[0m\n",
            "Observation: \u001b[33;1m\u001b[1;3m155.72\u001b[0m\n",
            "Thought:"
          ]
        },
        {
          "output_type": "stream",
          "name": "stderr",
          "text": [
            "\r[*********************100%%**********************]  1 of 1 completed"
          ]
        },
        {
          "output_type": "stream",
          "name": "stdout",
          "text": [
            "\u001b[32;1m\u001b[1;3m The current price is 155.72. I should check the RSI to see if the stock is overbought or oversold.\n",
            "Action: calculate_rsi\n",
            "Action Input: GOOG\u001b[0m\n",
            "Observation: \u001b[38;5;200m\u001b[1;3m48.33\u001b[0m\n",
            "Thought:"
          ]
        },
        {
          "output_type": "stream",
          "name": "stderr",
          "text": [
            "\n"
          ]
        },
        {
          "output_type": "stream",
          "name": "stdout",
          "text": [
            "\u001b[32;1m\u001b[1;3m The RSI is 48.33, this indicates that the stock is neither overbought nor oversold.\n",
            "Thought: I now know the final answer\n",
            "Final Answer: Based on the current stock price of 155.72 and an RSI of 48.33, GOOG is doing well.\u001b[0m\n",
            "\n",
            "\u001b[1m> Finished chain.\u001b[0m\n"
          ]
        },
        {
          "output_type": "execute_result",
          "data": {
            "text/plain": [
              "{'input': 'is goog doing well',\n",
              " 'output': 'Based on the current stock price of 155.72 and an RSI of 48.33, GOOG is doing well.'}"
            ]
          },
          "metadata": {},
          "execution_count": 129
        }
      ]
    },
    {
      "cell_type": "code",
      "source": [
        "agent.invoke(\"should i invest in NVIDIA\")"
      ],
      "metadata": {
        "colab": {
          "base_uri": "https://localhost:8080/"
        },
        "id": "rtAZgy0iU5_r",
        "outputId": "76c79631-4ea2-4369-e46b-e37f93b2c639"
      },
      "execution_count": null,
      "outputs": [
        {
          "output_type": "stream",
          "name": "stdout",
          "text": [
            "\n",
            "\n",
            "\u001b[1m> Entering new AgentExecutor chain...\u001b[0m\n",
            "\u001b[32;1m\u001b[1;3m I need to gather information about NVIDIA's stock performance and predict its future trend. I will use the get_company_symbol tool to get NVIDIA's symbol, then use get_stock_price, calculate_rsi, ma, and predict_stock to analyze its stock performance and trend.\n",
            "Action: get_company_symbol\n",
            "Action Input: NVIDIA\u001b[0m\n",
            "Observation: \u001b[36;1m\u001b[1;3myfinance.Ticker object <NVIDIA>\u001b[0m\n",
            "Thought:\u001b[32;1m\u001b[1;3m Now I have NVIDIA's symbol, I will check its current price using get_stock_price.\n",
            "Action: get_stock_price\n",
            "Action Input: NVDA\u001b[0m\n",
            "Observation: \u001b[33;1m\u001b[1;3m762.0\u001b[0m\n",
            "Thought:"
          ]
        },
        {
          "output_type": "stream",
          "name": "stderr",
          "text": [
            "\r[*********************100%%**********************]  1 of 1 completed"
          ]
        },
        {
          "output_type": "stream",
          "name": "stdout",
          "text": [
            "\u001b[32;1m\u001b[1;3m Now I know NVIDIA's current price, I will calculate its RSI to understand its volatility.\n",
            "Action: calculate_rsi\n",
            "Action Input: NVDA\u001b[0m\n",
            "Observation: \u001b[38;5;200m\u001b[1;3m28.536366892260872\u001b[0m\n",
            "Thought:"
          ]
        },
        {
          "output_type": "stream",
          "name": "stderr",
          "text": [
            "\n",
            "[*********************100%%**********************]  1 of 1 completed"
          ]
        },
        {
          "output_type": "stream",
          "name": "stdout",
          "text": [
            "\u001b[32;1m\u001b[1;3m Now I have calculated NVIDIA's RSI, I will check its moving average to understand its trend.\n",
            "Action: ma\n",
            "Action Input: NVDA\u001b[0m\n",
            "Observation: \u001b[36;1m\u001b[1;3mClosing Value is less than SMA, It may indicate a downtrend. Closing Value : 762.0 , SMA : 863.5564313616071. \n",
            "Closing Value is less than EMA, It may indicate a downtrend. Closing Value : 762.0 , EMA : 856.7045104627579. \n",
            "Closing Value is less than WMA, It may indicate a downtrend. Closing Value : 762.0 , WMA : 874.7024803524926. \n",
            "\u001b[0m\n",
            "Thought:"
          ]
        },
        {
          "output_type": "stream",
          "name": "stderr",
          "text": [
            "\n"
          ]
        },
        {
          "output_type": "stream",
          "name": "stdout",
          "text": [
            "\u001b[32;1m\u001b[1;3m Now I have checked NVIDIA's RSI and moving average, I will predict its next day's closing value using predict_stock.\n",
            "Action: predict_stock\n",
            "Action Input: NVDA\u001b[0m"
          ]
        },
        {
          "output_type": "stream",
          "name": "stderr",
          "text": [
            "\r[*********************100%%**********************]  1 of 1 completed\n"
          ]
        },
        {
          "output_type": "stream",
          "name": "stdout",
          "text": [
            "\n",
            "Observation: \u001b[33;1m\u001b[1;3m780.6218139648438\u001b[0m\n",
            "Thought:\u001b[32;1m\u001b[1;3m I now know the final answer\n",
            "Final Answer: Based on the analysis, NVIDIA's current price is $762.0 with a RSI of 28.536366892260872, indicating low volatility. Its moving average suggests a downtrend. However, the prediction tool shows an increase in price to $780.6218139648438 for the next day. Therefore, investing in NVIDIA could be a good decision considering the prediction but it is always recommended to do further research before making any investment decisions.\u001b[0m\n",
            "\n",
            "\u001b[1m> Finished chain.\u001b[0m\n"
          ]
        },
        {
          "output_type": "execute_result",
          "data": {
            "text/plain": [
              "{'input': 'should i invest in NVIDIA',\n",
              " 'output': \"Based on the analysis, NVIDIA's current price is $762.0 with a RSI of 28.536366892260872, indicating low volatility. Its moving average suggests a downtrend. However, the prediction tool shows an increase in price to $780.6218139648438 for the next day. Therefore, investing in NVIDIA could be a good decision considering the prediction but it is always recommended to do further research before making any investment decisions.\"}"
            ]
          },
          "metadata": {},
          "execution_count": 103
        }
      ]
    },
    {
      "cell_type": "code",
      "source": [
        "reponse = agent.invoke(\"Should I invest in wells fargo\")"
      ],
      "metadata": {
        "colab": {
          "base_uri": "https://localhost:8080/"
        },
        "id": "UvRA4yIObZAg",
        "outputId": "0a4837bb-981a-4d97-ef29-0f6ef80c345f"
      },
      "execution_count": null,
      "outputs": [
        {
          "output_type": "stream",
          "name": "stdout",
          "text": [
            "\n",
            "\n",
            "\u001b[1m> Entering new AgentExecutor chain...\u001b[0m\n",
            "\u001b[32;1m\u001b[1;3m To answer this question, I should first find out the current price of Wells Fargo stock, then calculate the RSI (Relative Strength Index) to check the stock's stability, and finally predict the stock's price for tomorrow.\n",
            "Action: get_company_symbol\n",
            "Action Input: Wells Fargo\u001b[0m\n",
            "Observation: \u001b[36;1m\u001b[1;3myfinance.Ticker object <WELLS FARGO>\u001b[0m\n",
            "Thought:\u001b[32;1m\u001b[1;3m Now I know the symbol for Wells Fargo is WELLS FARGO or WFC. I will use WFC for future actions.\n",
            "Action: get_stock_price\n",
            "Action Input: WFC\u001b[0m\n",
            "Observation: \u001b[33;1m\u001b[1;3m60.35\u001b[0m\n",
            "Thought:\u001b[32;1m\u001b[1;3m Now I know the current price of Wells Fargo stock is 60.35 dollars. Next, I will calculate the RSI.\n",
            "Action: calculate_rsi\n",
            "Action Input: WFC\u001b[0m"
          ]
        },
        {
          "output_type": "stream",
          "name": "stderr",
          "text": [
            "\r[*********************100%%**********************]  1 of 1 completed\n"
          ]
        },
        {
          "output_type": "stream",
          "name": "stdout",
          "text": [
            "\n",
            "Observation: \u001b[38;5;200m\u001b[1;3m66.39\u001b[0m\n",
            "Thought:\u001b[32;1m\u001b[1;3m Now I know the RSI for Wells Fargo is 66.39. This means the stock is overbought and may be due for a correction. However, I still need to predict the stock's price for tomorrow to make a final decision.\n",
            "Action: predict_stock\n",
            "Action Input: WFC\u001b[0m"
          ]
        },
        {
          "output_type": "stream",
          "name": "stderr",
          "text": [
            "\r[*********************100%%**********************]  1 of 1 completed\n"
          ]
        },
        {
          "output_type": "stream",
          "name": "stdout",
          "text": [
            "\n",
            "Observation: \u001b[33;1m\u001b[1;3m58.838435134887696\u001b[0m\n",
            "Thought:\u001b[32;1m\u001b[1;3m Now I know the predicted price of Wells Fargo for tomorrow is 58.84 dollars. Considering the high RSI and the predicted price drop, it might not be the best idea to invest in Wells Fargo right now.\n",
            "Final Answer: The current price of Wells Fargo stock is 60.35 dollars, the RSI is 66.39, and the predicted price for tomorrow is 58.84 dollars. Due to the high RSI and the predicted price drop, it might not be the best idea to invest in Wells Fargo right now.\u001b[0m\n",
            "\n",
            "\u001b[1m> Finished chain.\u001b[0m\n"
          ]
        }
      ]
    },
    {
      "cell_type": "code",
      "source": [
        "print(reponse['output'])"
      ],
      "metadata": {
        "colab": {
          "base_uri": "https://localhost:8080/"
        },
        "id": "gRoL3-cEblkm",
        "outputId": "c6b10721-4dbd-44b0-d75e-4c03e5f18ec1"
      },
      "execution_count": null,
      "outputs": [
        {
          "output_type": "stream",
          "name": "stdout",
          "text": [
            "The current price of Wells Fargo stock is 60.35 dollars, the RSI is 66.39, and the predicted price for tomorrow is 58.84 dollars. Due to the high RSI and the predicted price drop, it might not be the best idea to invest in Wells Fargo right now.\n"
          ]
        }
      ]
    },
    {
      "cell_type": "code",
      "source": [
        "agent.invoke(\"should i invest in NVIDIA\")"
      ],
      "metadata": {
        "id": "sKgOa0BtXVVe"
      },
      "execution_count": null,
      "outputs": []
    }
  ]
}